{
  "cells": [
    {
      "cell_type": "code",
      "source": [
        "https://github.com/Kazuhito00/hand-gesture-recognition-using-mediapipe/tree/main"
      ],
      "metadata": {
        "id": "-1shwKzpt-_2"
      },
      "execution_count": null,
      "outputs": []
    },
    {
      "cell_type": "code",
      "execution_count": null,
      "metadata": {
        "id": "kvpnqc2st-XN"
      },
      "outputs": [],
      "source": [
        "import csv\n",
        "\n",
        "import numpy as np\n",
        "import tensorflow as tf\n",
        "from sklearn.model_selection import train_test_split\n",
        "\n",
        "RANDOM_SEED = 42"
      ]
    },
    {
      "cell_type": "markdown",
      "metadata": {
        "id": "QvZzUhykt-XQ"
      },
      "source": [
        "# 경로 지정"
      ]
    },
    {
      "cell_type": "code",
      "source": [
        "from google.colab import drive\n",
        "drive.mount('/content/drive')"
      ],
      "metadata": {
        "colab": {
          "base_uri": "https://localhost:8080/"
        },
        "id": "MFDYzpghulFJ",
        "outputId": "0b828831-2a9a-4dcb-f899-f328c6ee29a9"
      },
      "execution_count": null,
      "outputs": [
        {
          "output_type": "stream",
          "name": "stdout",
          "text": [
            "Mounted at /content/drive\n"
          ]
        }
      ]
    },
    {
      "cell_type": "code",
      "source": [
        "!pwd"
      ],
      "metadata": {
        "colab": {
          "base_uri": "https://localhost:8080/"
        },
        "id": "IDiAhylBx1fu",
        "outputId": "6b88a619-b5ad-4719-ac40-374ebf7a2e6b"
      },
      "execution_count": null,
      "outputs": [
        {
          "output_type": "stream",
          "name": "stdout",
          "text": [
            "/content\n"
          ]
        }
      ]
    },
    {
      "cell_type": "code",
      "source": [
        "x_dataset_path = '/content/drive/MyDrive/KHUDA3rd 3차/0724/final_dataset.csv'\n",
        "y_dataset_path = '/content/drive/MyDrive/KHUDA3rd 3차/0724/final_y_dataset.csv'\n",
        "model_save_path = '/content/drive/MyDrive/KHUDA3rd 3차/0724/keypoint_classifier_0725_lstm.hdf5'"
      ],
      "metadata": {
        "id": "EQkom5djdSgD"
      },
      "execution_count": null,
      "outputs": []
    },
    {
      "cell_type": "markdown",
      "metadata": {
        "id": "REbeIRjDt-XU"
      },
      "source": [
        "# 분류수 설정"
      ]
    },
    {
      "cell_type": "code",
      "execution_count": null,
      "metadata": {
        "id": "s9F2aFhht-XU"
      },
      "outputs": [],
      "source": [
        "NUM_CLASSES = 12"
      ]
    },
    {
      "cell_type": "markdown",
      "metadata": {
        "id": "opojPK37t-XV"
      },
      "source": [
        "# 학습 데이터 불러오기"
      ]
    },
    {
      "cell_type": "code",
      "execution_count": null,
      "metadata": {
        "id": "T_uujLeat-XV"
      },
      "outputs": [],
      "source": [
        "X_dataset = np.loadtxt(x_dataset_path, delimiter=',', dtype='float32', usecols=list(range(3, (21 * 2) + 3)), skiprows=True)"
      ]
    },
    {
      "cell_type": "code",
      "source": [
        "X_dataset = X_dataset.reshape(1064, 56, 42)\n",
        "# X_dataset = X_dataset.reshape(1064, 42, 56, 1)"
      ],
      "metadata": {
        "id": "cU5he670d_Us"
      },
      "execution_count": null,
      "outputs": []
    },
    {
      "cell_type": "code",
      "execution_count": null,
      "metadata": {
        "id": "7rY8xMkrt-XW"
      },
      "outputs": [],
      "source": [
        "y_dataset = np.loadtxt(y_dataset_path, delimiter=',', dtype='int')"
      ]
    },
    {
      "cell_type": "code",
      "source": [
        "y_dataset.shape"
      ],
      "metadata": {
        "id": "y9C5Rl-feQcP"
      },
      "execution_count": null,
      "outputs": []
    },
    {
      "cell_type": "code",
      "execution_count": null,
      "metadata": {
        "id": "W7yMvGESt-XW"
      },
      "outputs": [],
      "source": [
        "X_train, X_test, y_train, y_test = train_test_split(X_dataset, y_dataset, train_size=0.75, random_state=RANDOM_SEED)"
      ]
    },
    {
      "cell_type": "markdown",
      "metadata": {
        "id": "WV4iBXY7t-XX"
      },
      "source": [
        "# 모델 구축"
      ]
    },
    {
      "cell_type": "code",
      "execution_count": null,
      "metadata": {
        "id": "s9fH9cu4t-XX"
      },
      "outputs": [],
      "source": [
        "# model = tf.keras.models.Sequential([\n",
        "#     tf.keras.layers.Input((21 * 2 * 56, )),\n",
        "#     tf.keras.layers.Dropout(0.2),\n",
        "#     tf.keras.layers.Dense(20, activation='relu'),\n",
        "#     tf.keras.layers.Dropout(0.4),\n",
        "#     tf.keras.layers.Dense(10, activation='relu'),\n",
        "#     tf.keras.layers.Dense(NUM_CLASSES, activation='softmax')\n",
        "# ])\n",
        "\n",
        "model = tf.keras.Sequential([\n",
        "  tf.keras.layers.LSTM(64, activation='relu', input_shape=((56, 42, ))),\n",
        "  tf.keras.layers.Dropout(0.5),\n",
        "  tf.keras.layers.Dense(10, activation='relu'),\n",
        "  tf.keras.layers.Dense(NUM_CLASSES, activation='softmax')\n",
        "])\n",
        "\n",
        "\n",
        "# model = tf.keras.models.Sequential([\n",
        "#     tf.keras.layers.Conv2D(16, (3,3), activation='relu', input_shape=(42, 56, 1)),\n",
        "#     tf.keras.layers.MaxPooling2D(2,2),\n",
        "#     tf.keras.layers.Conv2D(32, (3,3), activation='relu'),\n",
        "#     tf.keras.layers.MaxPooling2D(2,2),\n",
        "#     tf.keras.layers.Conv2D(64, (3,3), activation='relu'),\n",
        "#     tf.keras.layers.MaxPooling2D(2,2),\n",
        "#     tf.keras.layers.Flatten(),\n",
        "#     tf.keras.layers.Dense(512, activation='relu'),\n",
        "#     tf.keras.layers.Dense(12, activation='softmax')\n",
        "# ])"
      ]
    },
    {
      "cell_type": "code",
      "execution_count": null,
      "metadata": {
        "id": "MCNPmiVxt-XY",
        "colab": {
          "base_uri": "https://localhost:8080/"
        },
        "outputId": "4d88a69d-d658-4043-ac19-bb0a96e8e6f0"
      },
      "outputs": [
        {
          "output_type": "stream",
          "name": "stdout",
          "text": [
            "Model: \"sequential_1\"\n",
            "_________________________________________________________________\n",
            " Layer (type)                Output Shape              Param #   \n",
            "=================================================================\n",
            " conv2d_3 (Conv2D)           (None, 40, 54, 16)        160       \n",
            "                                                                 \n",
            " max_pooling2d_3 (MaxPooling  (None, 20, 27, 16)       0         \n",
            " 2D)                                                             \n",
            "                                                                 \n",
            " conv2d_4 (Conv2D)           (None, 18, 25, 32)        4640      \n",
            "                                                                 \n",
            " max_pooling2d_4 (MaxPooling  (None, 9, 12, 32)        0         \n",
            " 2D)                                                             \n",
            "                                                                 \n",
            " conv2d_5 (Conv2D)           (None, 7, 10, 64)         18496     \n",
            "                                                                 \n",
            " max_pooling2d_5 (MaxPooling  (None, 3, 5, 64)         0         \n",
            " 2D)                                                             \n",
            "                                                                 \n",
            " flatten_1 (Flatten)         (None, 960)               0         \n",
            "                                                                 \n",
            " dense_2 (Dense)             (None, 512)               492032    \n",
            "                                                                 \n",
            " dense_3 (Dense)             (None, 12)                6156      \n",
            "                                                                 \n",
            "=================================================================\n",
            "Total params: 521,484\n",
            "Trainable params: 521,484\n",
            "Non-trainable params: 0\n",
            "_________________________________________________________________\n"
          ]
        }
      ],
      "source": [
        "model.summary()  # tf.keras.utils.plot_model(model, show_shapes=True)"
      ]
    },
    {
      "cell_type": "code",
      "execution_count": null,
      "metadata": {
        "id": "OsFizyYAt-Xa"
      },
      "outputs": [],
      "source": [
        "# 모델 체크포인트 콜백\n",
        "cp_callback = tf.keras.callbacks.ModelCheckpoint(\n",
        "    model_save_path, verbose=1, save_weights_only=False)\n",
        "# 중간에 멈추는 경우 콜백\n",
        "es_callback = tf.keras.callbacks.EarlyStopping(patience=20, verbose=1)"
      ]
    },
    {
      "cell_type": "code",
      "execution_count": null,
      "metadata": {
        "id": "mq-XsRzFt-Xa"
      },
      "outputs": [],
      "source": [
        "#  model compile\n",
        "model.compile(\n",
        "    optimizer='adam',\n",
        "    loss='sparse_categorical_crossentropy',\n",
        "    metrics=['accuracy']\n",
        ")"
      ]
    },
    {
      "cell_type": "markdown",
      "metadata": {
        "id": "ghvl9znSt-Xb"
      },
      "source": [
        "# model train"
      ]
    },
    {
      "cell_type": "code",
      "execution_count": null,
      "metadata": {
        "scrolled": true,
        "id": "uppE1bzUt-Xb",
        "colab": {
          "base_uri": "https://localhost:8080/"
        },
        "outputId": "d0853dd7-5f98-4625-9a8d-468f4decadcb"
      },
      "outputs": [
        {
          "output_type": "stream",
          "name": "stdout",
          "text": [
            "Epoch 1/1000\n",
            "7/7 [==============================] - ETA: 0s - loss: 2.4340 - accuracy: 0.1303  \n",
            "Epoch 1: saving model to /content/drive/MyDrive/KHUDA3rd 3차/0724/keypoint_classifier_0725_lstm.hdf5\n",
            "7/7 [==============================] - 12s 146ms/step - loss: 2.4340 - accuracy: 0.1303 - val_loss: 2.2726 - val_accuracy: 0.1842\n",
            "Epoch 2/1000\n",
            "1/7 [===>..........................] - ETA: 0s - loss: 2.2274 - accuracy: 0.2188\n",
            "Epoch 2: saving model to /content/drive/MyDrive/KHUDA3rd 3차/0724/keypoint_classifier_0725_lstm.hdf5\n",
            "7/7 [==============================] - 0s 22ms/step - loss: 2.1311 - accuracy: 0.2882 - val_loss: 1.9271 - val_accuracy: 0.2782\n",
            "Epoch 3/1000\n",
            "1/7 [===>..........................] - ETA: 0s - loss: 1.8582 - accuracy: 0.3984\n",
            "Epoch 3: saving model to /content/drive/MyDrive/KHUDA3rd 3차/0724/keypoint_classifier_0725_lstm.hdf5\n",
            "7/7 [==============================] - 0s 25ms/step - loss: 1.8150 - accuracy: 0.3759 - val_loss: 1.7020 - val_accuracy: 0.3383\n",
            "Epoch 4/1000\n",
            "1/7 [===>..........................] - ETA: 0s - loss: 1.7150 - accuracy: 0.3516\n",
            "Epoch 4: saving model to /content/drive/MyDrive/KHUDA3rd 3차/0724/keypoint_classifier_0725_lstm.hdf5\n",
            "7/7 [==============================] - 0s 24ms/step - loss: 1.6384 - accuracy: 0.3810 - val_loss: 1.5954 - val_accuracy: 0.5301\n",
            "Epoch 5/1000\n",
            "1/7 [===>..........................] - ETA: 0s - loss: 1.4831 - accuracy: 0.5156\n",
            "Epoch 5: saving model to /content/drive/MyDrive/KHUDA3rd 3차/0724/keypoint_classifier_0725_lstm.hdf5\n",
            "7/7 [==============================] - 0s 21ms/step - loss: 1.4877 - accuracy: 0.5489 - val_loss: 1.4099 - val_accuracy: 0.6316\n",
            "Epoch 6/1000\n",
            "1/7 [===>..........................] - ETA: 0s - loss: 1.3425 - accuracy: 0.5469\n",
            "Epoch 6: saving model to /content/drive/MyDrive/KHUDA3rd 3차/0724/keypoint_classifier_0725_lstm.hdf5\n",
            "7/7 [==============================] - 0s 25ms/step - loss: 1.3464 - accuracy: 0.5564 - val_loss: 1.2646 - val_accuracy: 0.7293\n",
            "Epoch 7/1000\n",
            "1/7 [===>..........................] - ETA: 0s - loss: 1.2349 - accuracy: 0.7812\n",
            "Epoch 7: saving model to /content/drive/MyDrive/KHUDA3rd 3차/0724/keypoint_classifier_0725_lstm.hdf5\n",
            "7/7 [==============================] - 0s 22ms/step - loss: 1.1988 - accuracy: 0.7130 - val_loss: 1.1531 - val_accuracy: 0.7331\n",
            "Epoch 8/1000\n",
            "1/7 [===>..........................] - ETA: 0s - loss: 1.0387 - accuracy: 0.7109\n",
            "Epoch 8: saving model to /content/drive/MyDrive/KHUDA3rd 3차/0724/keypoint_classifier_0725_lstm.hdf5\n",
            "7/7 [==============================] - 0s 34ms/step - loss: 1.1035 - accuracy: 0.6905 - val_loss: 1.0970 - val_accuracy: 0.6429\n",
            "Epoch 9/1000\n",
            "1/7 [===>..........................] - ETA: 0s - loss: 1.0121 - accuracy: 0.6953\n",
            "Epoch 9: saving model to /content/drive/MyDrive/KHUDA3rd 3차/0724/keypoint_classifier_0725_lstm.hdf5\n",
            "7/7 [==============================] - 0s 22ms/step - loss: 0.9553 - accuracy: 0.7569 - val_loss: 0.8808 - val_accuracy: 0.7820\n",
            "Epoch 10/1000\n",
            "1/7 [===>..........................] - ETA: 0s - loss: 0.8359 - accuracy: 0.7422\n",
            "Epoch 10: saving model to /content/drive/MyDrive/KHUDA3rd 3차/0724/keypoint_classifier_0725_lstm.hdf5\n",
            "7/7 [==============================] - 0s 23ms/step - loss: 0.7833 - accuracy: 0.8070 - val_loss: 0.7178 - val_accuracy: 0.8496\n",
            "Epoch 11/1000\n",
            "1/7 [===>..........................] - ETA: 0s - loss: 0.6861 - accuracy: 0.8438\n",
            "Epoch 11: saving model to /content/drive/MyDrive/KHUDA3rd 3차/0724/keypoint_classifier_0725_lstm.hdf5\n",
            "7/7 [==============================] - 0s 23ms/step - loss: 0.6635 - accuracy: 0.8271 - val_loss: 0.6282 - val_accuracy: 0.8759\n",
            "Epoch 12/1000\n",
            "1/7 [===>..........................] - ETA: 0s - loss: 0.5872 - accuracy: 0.8906\n",
            "Epoch 12: saving model to /content/drive/MyDrive/KHUDA3rd 3차/0724/keypoint_classifier_0725_lstm.hdf5\n",
            "7/7 [==============================] - 0s 22ms/step - loss: 0.5778 - accuracy: 0.8647 - val_loss: 0.5350 - val_accuracy: 0.8872\n",
            "Epoch 13/1000\n",
            "1/7 [===>..........................] - ETA: 0s - loss: 0.4889 - accuracy: 0.8594\n",
            "Epoch 13: saving model to /content/drive/MyDrive/KHUDA3rd 3차/0724/keypoint_classifier_0725_lstm.hdf5\n",
            "7/7 [==============================] - 0s 24ms/step - loss: 0.4921 - accuracy: 0.8797 - val_loss: 0.4858 - val_accuracy: 0.8872\n",
            "Epoch 14/1000\n",
            "1/7 [===>..........................] - ETA: 0s - loss: 0.3351 - accuracy: 0.9375\n",
            "Epoch 14: saving model to /content/drive/MyDrive/KHUDA3rd 3차/0724/keypoint_classifier_0725_lstm.hdf5\n",
            "7/7 [==============================] - 0s 25ms/step - loss: 0.4366 - accuracy: 0.8847 - val_loss: 0.4221 - val_accuracy: 0.9023\n",
            "Epoch 15/1000\n",
            "7/7 [==============================] - ETA: 0s - loss: 0.3843 - accuracy: 0.8922\n",
            "Epoch 15: saving model to /content/drive/MyDrive/KHUDA3rd 3차/0724/keypoint_classifier_0725_lstm.hdf5\n",
            "7/7 [==============================] - 0s 26ms/step - loss: 0.3843 - accuracy: 0.8922 - val_loss: 0.4427 - val_accuracy: 0.8797\n",
            "Epoch 16/1000\n",
            "1/7 [===>..........................] - ETA: 0s - loss: 0.4068 - accuracy: 0.8750\n",
            "Epoch 16: saving model to /content/drive/MyDrive/KHUDA3rd 3차/0724/keypoint_classifier_0725_lstm.hdf5\n",
            "7/7 [==============================] - 0s 24ms/step - loss: 0.3717 - accuracy: 0.8810 - val_loss: 0.3902 - val_accuracy: 0.9173\n",
            "Epoch 17/1000\n",
            "1/7 [===>..........................] - ETA: 0s - loss: 0.2758 - accuracy: 0.9062\n",
            "Epoch 17: saving model to /content/drive/MyDrive/KHUDA3rd 3차/0724/keypoint_classifier_0725_lstm.hdf5\n",
            "7/7 [==============================] - 0s 23ms/step - loss: 0.3525 - accuracy: 0.9010 - val_loss: 0.3717 - val_accuracy: 0.9060\n",
            "Epoch 18/1000\n",
            "1/7 [===>..........................] - ETA: 0s - loss: 0.3604 - accuracy: 0.8984\n",
            "Epoch 18: saving model to /content/drive/MyDrive/KHUDA3rd 3차/0724/keypoint_classifier_0725_lstm.hdf5\n",
            "7/7 [==============================] - 0s 24ms/step - loss: 0.3313 - accuracy: 0.8985 - val_loss: 0.3632 - val_accuracy: 0.9135\n",
            "Epoch 19/1000\n",
            "1/7 [===>..........................] - ETA: 0s - loss: 0.2988 - accuracy: 0.9375\n",
            "Epoch 19: saving model to /content/drive/MyDrive/KHUDA3rd 3차/0724/keypoint_classifier_0725_lstm.hdf5\n",
            "7/7 [==============================] - 0s 24ms/step - loss: 0.3185 - accuracy: 0.9110 - val_loss: 0.3350 - val_accuracy: 0.9361\n",
            "Epoch 20/1000\n",
            "1/7 [===>..........................] - ETA: 0s - loss: 0.2446 - accuracy: 0.9141\n",
            "Epoch 20: saving model to /content/drive/MyDrive/KHUDA3rd 3차/0724/keypoint_classifier_0725_lstm.hdf5\n",
            "7/7 [==============================] - 0s 25ms/step - loss: 0.3086 - accuracy: 0.9148 - val_loss: 0.3388 - val_accuracy: 0.9248\n",
            "Epoch 21/1000\n",
            "1/7 [===>..........................] - ETA: 0s - loss: 0.2789 - accuracy: 0.9141\n",
            "Epoch 21: saving model to /content/drive/MyDrive/KHUDA3rd 3차/0724/keypoint_classifier_0725_lstm.hdf5\n",
            "7/7 [==============================] - 0s 27ms/step - loss: 0.2780 - accuracy: 0.9123 - val_loss: 0.3282 - val_accuracy: 0.9323\n",
            "Epoch 22/1000\n",
            "1/7 [===>..........................] - ETA: 0s - loss: 0.2258 - accuracy: 0.9219\n",
            "Epoch 22: saving model to /content/drive/MyDrive/KHUDA3rd 3차/0724/keypoint_classifier_0725_lstm.hdf5\n",
            "7/7 [==============================] - 0s 25ms/step - loss: 0.2628 - accuracy: 0.9173 - val_loss: 0.3094 - val_accuracy: 0.9323\n",
            "Epoch 23/1000\n",
            "1/7 [===>..........................] - ETA: 0s - loss: 0.2815 - accuracy: 0.8984\n",
            "Epoch 23: saving model to /content/drive/MyDrive/KHUDA3rd 3차/0724/keypoint_classifier_0725_lstm.hdf5\n",
            "7/7 [==============================] - 0s 24ms/step - loss: 0.2594 - accuracy: 0.9123 - val_loss: 0.3008 - val_accuracy: 0.9398\n",
            "Epoch 24/1000\n",
            "1/7 [===>..........................] - ETA: 0s - loss: 0.2723 - accuracy: 0.8906\n",
            "Epoch 24: saving model to /content/drive/MyDrive/KHUDA3rd 3차/0724/keypoint_classifier_0725_lstm.hdf5\n",
            "7/7 [==============================] - 0s 24ms/step - loss: 0.2444 - accuracy: 0.9173 - val_loss: 0.3139 - val_accuracy: 0.9286\n",
            "Epoch 25/1000\n",
            "1/7 [===>..........................] - ETA: 0s - loss: 0.3267 - accuracy: 0.8828\n",
            "Epoch 25: saving model to /content/drive/MyDrive/KHUDA3rd 3차/0724/keypoint_classifier_0725_lstm.hdf5\n",
            "7/7 [==============================] - 0s 26ms/step - loss: 0.2537 - accuracy: 0.9123 - val_loss: 0.3028 - val_accuracy: 0.9286\n",
            "Epoch 26/1000\n",
            "1/7 [===>..........................] - ETA: 0s - loss: 0.1566 - accuracy: 0.9219\n",
            "Epoch 26: saving model to /content/drive/MyDrive/KHUDA3rd 3차/0724/keypoint_classifier_0725_lstm.hdf5\n",
            "7/7 [==============================] - 0s 24ms/step - loss: 0.2411 - accuracy: 0.9110 - val_loss: 0.2975 - val_accuracy: 0.9398\n",
            "Epoch 27/1000\n",
            "1/7 [===>..........................] - ETA: 0s - loss: 0.1905 - accuracy: 0.9219\n",
            "Epoch 27: saving model to /content/drive/MyDrive/KHUDA3rd 3차/0724/keypoint_classifier_0725_lstm.hdf5\n",
            "7/7 [==============================] - 1s 99ms/step - loss: 0.2420 - accuracy: 0.9110 - val_loss: 0.2968 - val_accuracy: 0.9323\n",
            "Epoch 28/1000\n",
            "1/7 [===>..........................] - ETA: 0s - loss: 0.2619 - accuracy: 0.9141\n",
            "Epoch 28: saving model to /content/drive/MyDrive/KHUDA3rd 3차/0724/keypoint_classifier_0725_lstm.hdf5\n",
            "7/7 [==============================] - 0s 24ms/step - loss: 0.2386 - accuracy: 0.9185 - val_loss: 0.3206 - val_accuracy: 0.9248\n",
            "Epoch 29/1000\n",
            "6/7 [========================>.....] - ETA: 0s - loss: 0.2381 - accuracy: 0.9180\n",
            "Epoch 29: saving model to /content/drive/MyDrive/KHUDA3rd 3차/0724/keypoint_classifier_0725_lstm.hdf5\n",
            "7/7 [==============================] - 0s 25ms/step - loss: 0.2356 - accuracy: 0.9160 - val_loss: 0.2812 - val_accuracy: 0.9286\n",
            "Epoch 30/1000\n",
            "1/7 [===>..........................] - ETA: 0s - loss: 0.1448 - accuracy: 0.9531\n",
            "Epoch 30: saving model to /content/drive/MyDrive/KHUDA3rd 3차/0724/keypoint_classifier_0725_lstm.hdf5\n",
            "7/7 [==============================] - 0s 26ms/step - loss: 0.2203 - accuracy: 0.9211 - val_loss: 0.2756 - val_accuracy: 0.9361\n",
            "Epoch 31/1000\n",
            "1/7 [===>..........................] - ETA: 0s - loss: 0.2189 - accuracy: 0.9297\n",
            "Epoch 31: saving model to /content/drive/MyDrive/KHUDA3rd 3차/0724/keypoint_classifier_0725_lstm.hdf5\n",
            "7/7 [==============================] - 0s 29ms/step - loss: 0.2185 - accuracy: 0.9160 - val_loss: 0.2887 - val_accuracy: 0.9361\n",
            "Epoch 32/1000\n",
            "7/7 [==============================] - ETA: 0s - loss: 0.2118 - accuracy: 0.9223\n",
            "Epoch 32: saving model to /content/drive/MyDrive/KHUDA3rd 3차/0724/keypoint_classifier_0725_lstm.hdf5\n",
            "7/7 [==============================] - 0s 30ms/step - loss: 0.2118 - accuracy: 0.9223 - val_loss: 0.2947 - val_accuracy: 0.9398\n",
            "Epoch 33/1000\n",
            "6/7 [========================>.....] - ETA: 0s - loss: 0.1955 - accuracy: 0.9193\n",
            "Epoch 33: saving model to /content/drive/MyDrive/KHUDA3rd 3차/0724/keypoint_classifier_0725_lstm.hdf5\n",
            "7/7 [==============================] - 0s 31ms/step - loss: 0.2086 - accuracy: 0.9160 - val_loss: 0.2725 - val_accuracy: 0.9398\n",
            "Epoch 34/1000\n",
            "7/7 [==============================] - ETA: 0s - loss: 0.2084 - accuracy: 0.9160\n",
            "Epoch 34: saving model to /content/drive/MyDrive/KHUDA3rd 3차/0724/keypoint_classifier_0725_lstm.hdf5\n",
            "7/7 [==============================] - 0s 30ms/step - loss: 0.2084 - accuracy: 0.9160 - val_loss: 0.2703 - val_accuracy: 0.9361\n",
            "Epoch 35/1000\n",
            "7/7 [==============================] - ETA: 0s - loss: 0.2070 - accuracy: 0.9173\n",
            "Epoch 35: saving model to /content/drive/MyDrive/KHUDA3rd 3차/0724/keypoint_classifier_0725_lstm.hdf5\n",
            "7/7 [==============================] - 0s 31ms/step - loss: 0.2070 - accuracy: 0.9173 - val_loss: 0.2775 - val_accuracy: 0.9436\n",
            "Epoch 36/1000\n",
            "7/7 [==============================] - ETA: 0s - loss: 0.2160 - accuracy: 0.9148\n",
            "Epoch 36: saving model to /content/drive/MyDrive/KHUDA3rd 3차/0724/keypoint_classifier_0725_lstm.hdf5\n",
            "7/7 [==============================] - 0s 30ms/step - loss: 0.2160 - accuracy: 0.9148 - val_loss: 0.2628 - val_accuracy: 0.9398\n",
            "Epoch 37/1000\n",
            "1/7 [===>..........................] - ETA: 0s - loss: 0.1778 - accuracy: 0.9219\n",
            "Epoch 37: saving model to /content/drive/MyDrive/KHUDA3rd 3차/0724/keypoint_classifier_0725_lstm.hdf5\n",
            "7/7 [==============================] - 0s 27ms/step - loss: 0.2091 - accuracy: 0.9173 - val_loss: 0.3066 - val_accuracy: 0.9398\n",
            "Epoch 38/1000\n",
            "7/7 [==============================] - ETA: 0s - loss: 0.2056 - accuracy: 0.9198\n",
            "Epoch 38: saving model to /content/drive/MyDrive/KHUDA3rd 3차/0724/keypoint_classifier_0725_lstm.hdf5\n",
            "7/7 [==============================] - 0s 28ms/step - loss: 0.2056 - accuracy: 0.9198 - val_loss: 0.2664 - val_accuracy: 0.9361\n",
            "Epoch 39/1000\n",
            "1/7 [===>..........................] - ETA: 0s - loss: 0.3215 - accuracy: 0.8984\n",
            "Epoch 39: saving model to /content/drive/MyDrive/KHUDA3rd 3차/0724/keypoint_classifier_0725_lstm.hdf5\n",
            "7/7 [==============================] - 0s 30ms/step - loss: 0.2119 - accuracy: 0.9148 - val_loss: 0.2705 - val_accuracy: 0.9398\n",
            "Epoch 40/1000\n",
            "7/7 [==============================] - ETA: 0s - loss: 0.1927 - accuracy: 0.9211\n",
            "Epoch 40: saving model to /content/drive/MyDrive/KHUDA3rd 3차/0724/keypoint_classifier_0725_lstm.hdf5\n",
            "7/7 [==============================] - 0s 32ms/step - loss: 0.1927 - accuracy: 0.9211 - val_loss: 0.2710 - val_accuracy: 0.9398\n",
            "Epoch 41/1000\n",
            "7/7 [==============================] - ETA: 0s - loss: 0.2042 - accuracy: 0.9110\n",
            "Epoch 41: saving model to /content/drive/MyDrive/KHUDA3rd 3차/0724/keypoint_classifier_0725_lstm.hdf5\n",
            "7/7 [==============================] - 0s 30ms/step - loss: 0.2042 - accuracy: 0.9110 - val_loss: 0.2689 - val_accuracy: 0.9361\n",
            "Epoch 42/1000\n",
            "7/7 [==============================] - ETA: 0s - loss: 0.2021 - accuracy: 0.9198\n",
            "Epoch 42: saving model to /content/drive/MyDrive/KHUDA3rd 3차/0724/keypoint_classifier_0725_lstm.hdf5\n",
            "7/7 [==============================] - 0s 30ms/step - loss: 0.2021 - accuracy: 0.9198 - val_loss: 0.2650 - val_accuracy: 0.9323\n",
            "Epoch 43/1000\n",
            "7/7 [==============================] - ETA: 0s - loss: 0.1997 - accuracy: 0.9098\n",
            "Epoch 43: saving model to /content/drive/MyDrive/KHUDA3rd 3차/0724/keypoint_classifier_0725_lstm.hdf5\n",
            "7/7 [==============================] - 0s 32ms/step - loss: 0.1997 - accuracy: 0.9098 - val_loss: 0.2648 - val_accuracy: 0.9398\n",
            "Epoch 44/1000\n",
            "1/7 [===>..........................] - ETA: 0s - loss: 0.2379 - accuracy: 0.9062\n",
            "Epoch 44: saving model to /content/drive/MyDrive/KHUDA3rd 3차/0724/keypoint_classifier_0725_lstm.hdf5\n",
            "7/7 [==============================] - 0s 28ms/step - loss: 0.1882 - accuracy: 0.9123 - val_loss: 0.2588 - val_accuracy: 0.9361\n",
            "Epoch 45/1000\n",
            "6/7 [========================>.....] - ETA: 0s - loss: 0.1883 - accuracy: 0.9193\n",
            "Epoch 45: saving model to /content/drive/MyDrive/KHUDA3rd 3차/0724/keypoint_classifier_0725_lstm.hdf5\n",
            "7/7 [==============================] - 0s 32ms/step - loss: 0.1871 - accuracy: 0.9185 - val_loss: 0.3036 - val_accuracy: 0.9323\n",
            "Epoch 46/1000\n",
            "1/7 [===>..........................] - ETA: 0s - loss: 0.1847 - accuracy: 0.9297\n",
            "Epoch 46: saving model to /content/drive/MyDrive/KHUDA3rd 3차/0724/keypoint_classifier_0725_lstm.hdf5\n",
            "7/7 [==============================] - 1s 107ms/step - loss: 0.1977 - accuracy: 0.9135 - val_loss: 0.2531 - val_accuracy: 0.9398\n",
            "Epoch 47/1000\n",
            "1/7 [===>..........................] - ETA: 0s - loss: 0.1896 - accuracy: 0.8984\n",
            "Epoch 47: saving model to /content/drive/MyDrive/KHUDA3rd 3차/0724/keypoint_classifier_0725_lstm.hdf5\n",
            "7/7 [==============================] - 0s 25ms/step - loss: 0.1834 - accuracy: 0.9185 - val_loss: 0.2573 - val_accuracy: 0.9361\n",
            "Epoch 48/1000\n",
            "1/7 [===>..........................] - ETA: 0s - loss: 0.2114 - accuracy: 0.9219\n",
            "Epoch 48: saving model to /content/drive/MyDrive/KHUDA3rd 3차/0724/keypoint_classifier_0725_lstm.hdf5\n",
            "7/7 [==============================] - 0s 24ms/step - loss: 0.1831 - accuracy: 0.9160 - val_loss: 0.2602 - val_accuracy: 0.9323\n",
            "Epoch 49/1000\n",
            "1/7 [===>..........................] - ETA: 0s - loss: 0.1900 - accuracy: 0.9219\n",
            "Epoch 49: saving model to /content/drive/MyDrive/KHUDA3rd 3차/0724/keypoint_classifier_0725_lstm.hdf5\n",
            "7/7 [==============================] - 0s 23ms/step - loss: 0.1721 - accuracy: 0.9236 - val_loss: 0.2681 - val_accuracy: 0.9323\n",
            "Epoch 50/1000\n",
            "1/7 [===>..........................] - ETA: 0s - loss: 0.1152 - accuracy: 0.9453\n",
            "Epoch 50: saving model to /content/drive/MyDrive/KHUDA3rd 3차/0724/keypoint_classifier_0725_lstm.hdf5\n",
            "7/7 [==============================] - 0s 23ms/step - loss: 0.1743 - accuracy: 0.9198 - val_loss: 0.2640 - val_accuracy: 0.9436\n",
            "Epoch 51/1000\n",
            "1/7 [===>..........................] - ETA: 0s - loss: 0.1048 - accuracy: 0.9609\n",
            "Epoch 51: saving model to /content/drive/MyDrive/KHUDA3rd 3차/0724/keypoint_classifier_0725_lstm.hdf5\n",
            "7/7 [==============================] - 0s 28ms/step - loss: 0.1769 - accuracy: 0.9248 - val_loss: 0.2769 - val_accuracy: 0.9361\n",
            "Epoch 52/1000\n",
            "1/7 [===>..........................] - ETA: 0s - loss: 0.2146 - accuracy: 0.9141\n",
            "Epoch 52: saving model to /content/drive/MyDrive/KHUDA3rd 3차/0724/keypoint_classifier_0725_lstm.hdf5\n",
            "7/7 [==============================] - 0s 23ms/step - loss: 0.1929 - accuracy: 0.9223 - val_loss: 0.2601 - val_accuracy: 0.9436\n",
            "Epoch 53/1000\n",
            "1/7 [===>..........................] - ETA: 0s - loss: 0.2055 - accuracy: 0.9219\n",
            "Epoch 53: saving model to /content/drive/MyDrive/KHUDA3rd 3차/0724/keypoint_classifier_0725_lstm.hdf5\n",
            "7/7 [==============================] - 0s 23ms/step - loss: 0.1873 - accuracy: 0.9185 - val_loss: 0.2737 - val_accuracy: 0.9398\n",
            "Epoch 54/1000\n",
            "7/7 [==============================] - ETA: 0s - loss: 0.1800 - accuracy: 0.9160\n",
            "Epoch 54: saving model to /content/drive/MyDrive/KHUDA3rd 3차/0724/keypoint_classifier_0725_lstm.hdf5\n",
            "7/7 [==============================] - 0s 25ms/step - loss: 0.1800 - accuracy: 0.9160 - val_loss: 0.2868 - val_accuracy: 0.9361\n",
            "Epoch 55/1000\n",
            "1/7 [===>..........................] - ETA: 0s - loss: 0.2696 - accuracy: 0.8906\n",
            "Epoch 55: saving model to /content/drive/MyDrive/KHUDA3rd 3차/0724/keypoint_classifier_0725_lstm.hdf5\n",
            "7/7 [==============================] - 0s 25ms/step - loss: 0.1874 - accuracy: 0.9223 - val_loss: 0.2446 - val_accuracy: 0.9361\n",
            "Epoch 56/1000\n",
            "1/7 [===>..........................] - ETA: 0s - loss: 0.1557 - accuracy: 0.9219\n",
            "Epoch 56: saving model to /content/drive/MyDrive/KHUDA3rd 3차/0724/keypoint_classifier_0725_lstm.hdf5\n",
            "7/7 [==============================] - 0s 24ms/step - loss: 0.1798 - accuracy: 0.9185 - val_loss: 0.2652 - val_accuracy: 0.9361\n",
            "Epoch 57/1000\n",
            "1/7 [===>..........................] - ETA: 0s - loss: 0.1174 - accuracy: 0.9609\n",
            "Epoch 57: saving model to /content/drive/MyDrive/KHUDA3rd 3차/0724/keypoint_classifier_0725_lstm.hdf5\n",
            "7/7 [==============================] - 0s 24ms/step - loss: 0.1772 - accuracy: 0.9261 - val_loss: 0.2534 - val_accuracy: 0.9398\n",
            "Epoch 58/1000\n",
            "1/7 [===>..........................] - ETA: 0s - loss: 0.2036 - accuracy: 0.8984\n",
            "Epoch 58: saving model to /content/drive/MyDrive/KHUDA3rd 3차/0724/keypoint_classifier_0725_lstm.hdf5\n",
            "7/7 [==============================] - 0s 23ms/step - loss: 0.1732 - accuracy: 0.9148 - val_loss: 0.2699 - val_accuracy: 0.9211\n",
            "Epoch 59/1000\n",
            "1/7 [===>..........................] - ETA: 0s - loss: 0.1516 - accuracy: 0.9297\n",
            "Epoch 59: saving model to /content/drive/MyDrive/KHUDA3rd 3차/0724/keypoint_classifier_0725_lstm.hdf5\n",
            "7/7 [==============================] - 0s 24ms/step - loss: 0.1640 - accuracy: 0.9236 - val_loss: 0.2540 - val_accuracy: 0.9323\n",
            "Epoch 60/1000\n",
            "1/7 [===>..........................] - ETA: 0s - loss: 0.1126 - accuracy: 0.9219\n",
            "Epoch 60: saving model to /content/drive/MyDrive/KHUDA3rd 3차/0724/keypoint_classifier_0725_lstm.hdf5\n",
            "7/7 [==============================] - 0s 24ms/step - loss: 0.1688 - accuracy: 0.9236 - val_loss: 0.2690 - val_accuracy: 0.9286\n",
            "Epoch 61/1000\n",
            "7/7 [==============================] - ETA: 0s - loss: 0.1768 - accuracy: 0.9185\n",
            "Epoch 61: saving model to /content/drive/MyDrive/KHUDA3rd 3차/0724/keypoint_classifier_0725_lstm.hdf5\n",
            "7/7 [==============================] - 0s 25ms/step - loss: 0.1768 - accuracy: 0.9185 - val_loss: 0.2598 - val_accuracy: 0.9398\n",
            "Epoch 62/1000\n",
            "1/7 [===>..........................] - ETA: 0s - loss: 0.1622 - accuracy: 0.9375\n",
            "Epoch 62: saving model to /content/drive/MyDrive/KHUDA3rd 3차/0724/keypoint_classifier_0725_lstm.hdf5\n",
            "7/7 [==============================] - 0s 24ms/step - loss: 0.1867 - accuracy: 0.9148 - val_loss: 0.2483 - val_accuracy: 0.9398\n",
            "Epoch 63/1000\n",
            "1/7 [===>..........................] - ETA: 0s - loss: 0.1760 - accuracy: 0.9297\n",
            "Epoch 63: saving model to /content/drive/MyDrive/KHUDA3rd 3차/0724/keypoint_classifier_0725_lstm.hdf5\n",
            "7/7 [==============================] - 0s 64ms/step - loss: 0.1618 - accuracy: 0.9336 - val_loss: 0.2804 - val_accuracy: 0.9361\n",
            "Epoch 64/1000\n",
            "1/7 [===>..........................] - ETA: 0s - loss: 0.2059 - accuracy: 0.9062\n",
            "Epoch 64: saving model to /content/drive/MyDrive/KHUDA3rd 3차/0724/keypoint_classifier_0725_lstm.hdf5\n",
            "7/7 [==============================] - 0s 26ms/step - loss: 0.1686 - accuracy: 0.9261 - val_loss: 0.2596 - val_accuracy: 0.9361\n",
            "Epoch 65/1000\n",
            "1/7 [===>..........................] - ETA: 0s - loss: 0.1355 - accuracy: 0.9453\n",
            "Epoch 65: saving model to /content/drive/MyDrive/KHUDA3rd 3차/0724/keypoint_classifier_0725_lstm.hdf5\n",
            "7/7 [==============================] - 0s 23ms/step - loss: 0.1865 - accuracy: 0.9223 - val_loss: 0.2715 - val_accuracy: 0.9361\n",
            "Epoch 66/1000\n",
            "1/7 [===>..........................] - ETA: 0s - loss: 0.2025 - accuracy: 0.8906\n",
            "Epoch 66: saving model to /content/drive/MyDrive/KHUDA3rd 3차/0724/keypoint_classifier_0725_lstm.hdf5\n",
            "7/7 [==============================] - 0s 25ms/step - loss: 0.1853 - accuracy: 0.9110 - val_loss: 0.2565 - val_accuracy: 0.9286\n",
            "Epoch 67/1000\n",
            "1/7 [===>..........................] - ETA: 0s - loss: 0.1555 - accuracy: 0.9219\n",
            "Epoch 67: saving model to /content/drive/MyDrive/KHUDA3rd 3차/0724/keypoint_classifier_0725_lstm.hdf5\n",
            "7/7 [==============================] - 0s 23ms/step - loss: 0.1826 - accuracy: 0.9173 - val_loss: 0.2852 - val_accuracy: 0.9398\n",
            "Epoch 68/1000\n",
            "1/7 [===>..........................] - ETA: 0s - loss: 0.1902 - accuracy: 0.9375\n",
            "Epoch 68: saving model to /content/drive/MyDrive/KHUDA3rd 3차/0724/keypoint_classifier_0725_lstm.hdf5\n",
            "7/7 [==============================] - 0s 26ms/step - loss: 0.1699 - accuracy: 0.9185 - val_loss: 0.2664 - val_accuracy: 0.9398\n",
            "Epoch 69/1000\n",
            "1/7 [===>..........................] - ETA: 0s - loss: 0.2049 - accuracy: 0.9219\n",
            "Epoch 69: saving model to /content/drive/MyDrive/KHUDA3rd 3차/0724/keypoint_classifier_0725_lstm.hdf5\n",
            "7/7 [==============================] - 0s 24ms/step - loss: 0.1780 - accuracy: 0.9236 - val_loss: 0.2704 - val_accuracy: 0.9361\n",
            "Epoch 70/1000\n",
            "1/7 [===>..........................] - ETA: 0s - loss: 0.2387 - accuracy: 0.8906\n",
            "Epoch 70: saving model to /content/drive/MyDrive/KHUDA3rd 3차/0724/keypoint_classifier_0725_lstm.hdf5\n",
            "7/7 [==============================] - 0s 23ms/step - loss: 0.1736 - accuracy: 0.9223 - val_loss: 0.2513 - val_accuracy: 0.9286\n",
            "Epoch 71/1000\n",
            "1/7 [===>..........................] - ETA: 0s - loss: 0.0984 - accuracy: 0.9609\n",
            "Epoch 71: saving model to /content/drive/MyDrive/KHUDA3rd 3차/0724/keypoint_classifier_0725_lstm.hdf5\n",
            "7/7 [==============================] - 0s 26ms/step - loss: 0.1669 - accuracy: 0.9286 - val_loss: 0.2762 - val_accuracy: 0.9323\n",
            "Epoch 72/1000\n",
            "1/7 [===>..........................] - ETA: 0s - loss: 0.1137 - accuracy: 0.9531\n",
            "Epoch 72: saving model to /content/drive/MyDrive/KHUDA3rd 3차/0724/keypoint_classifier_0725_lstm.hdf5\n",
            "7/7 [==============================] - 0s 25ms/step - loss: 0.1774 - accuracy: 0.9198 - val_loss: 0.2489 - val_accuracy: 0.9398\n",
            "Epoch 73/1000\n",
            "1/7 [===>..........................] - ETA: 0s - loss: 0.1808 - accuracy: 0.9062\n",
            "Epoch 73: saving model to /content/drive/MyDrive/KHUDA3rd 3차/0724/keypoint_classifier_0725_lstm.hdf5\n",
            "7/7 [==============================] - 0s 25ms/step - loss: 0.1702 - accuracy: 0.9198 - val_loss: 0.2868 - val_accuracy: 0.9323\n",
            "Epoch 74/1000\n",
            "1/7 [===>..........................] - ETA: 0s - loss: 0.2026 - accuracy: 0.8906\n",
            "Epoch 74: saving model to /content/drive/MyDrive/KHUDA3rd 3차/0724/keypoint_classifier_0725_lstm.hdf5\n",
            "7/7 [==============================] - 0s 23ms/step - loss: 0.1640 - accuracy: 0.9223 - val_loss: 0.2645 - val_accuracy: 0.9323\n",
            "Epoch 75/1000\n",
            "1/7 [===>..........................] - ETA: 0s - loss: 0.1388 - accuracy: 0.9453\n",
            "Epoch 75: saving model to /content/drive/MyDrive/KHUDA3rd 3차/0724/keypoint_classifier_0725_lstm.hdf5\n",
            "7/7 [==============================] - 0s 25ms/step - loss: 0.1575 - accuracy: 0.9148 - val_loss: 0.2608 - val_accuracy: 0.9248\n",
            "Epoch 75: early stopping\n"
          ]
        },
        {
          "output_type": "execute_result",
          "data": {
            "text/plain": [
              "<keras.callbacks.History at 0x79a1016e1630>"
            ]
          },
          "metadata": {},
          "execution_count": 21
        }
      ],
      "source": [
        "model.fit(\n",
        "    X_train,\n",
        "    y_train,\n",
        "    epochs=1000,\n",
        "    batch_size=128,\n",
        "    validation_data=(X_test, y_test),\n",
        "    callbacks=[cp_callback, es_callback]\n",
        ")"
      ]
    },
    {
      "cell_type": "code",
      "execution_count": null,
      "metadata": {
        "id": "lbMUWQJSt-Xc",
        "colab": {
          "base_uri": "https://localhost:8080/"
        },
        "outputId": "afb0d86b-3394-4455-809c-57eaae3c8583"
      },
      "outputs": [
        {
          "output_type": "stream",
          "name": "stdout",
          "text": [
            "3/3 [==============================] - 0s 5ms/step - loss: 0.2608 - accuracy: 0.9248\n"
          ]
        }
      ],
      "source": [
        "val_loss, val_acc = model.evaluate(X_test, y_test, batch_size=128)"
      ]
    },
    {
      "cell_type": "code",
      "execution_count": null,
      "metadata": {
        "id": "YIC5gu-6t-Xc"
      },
      "outputs": [],
      "source": [
        "model = tf.keras.models.load_model(model_save_path)"
      ]
    },
    {
      "cell_type": "code",
      "execution_count": null,
      "metadata": {
        "id": "ez1NuUC1t-Xd"
      },
      "outputs": [],
      "source": [
        "predict_result = model.predict(np.array([X_test[0]]))\n",
        "print(np.squeeze(predict_result))\n",
        "print(np.argmax(np.squeeze(predict_result)))"
      ]
    },
    {
      "cell_type": "code",
      "source": [
        "y_test"
      ],
      "metadata": {
        "id": "X-gMgM6b5wnK",
        "colab": {
          "base_uri": "https://localhost:8080/"
        },
        "outputId": "c9143e01-20d8-4d23-c19a-ee6fdf4223d7"
      },
      "execution_count": null,
      "outputs": [
        {
          "output_type": "execute_result",
          "data": {
            "text/plain": [
              "array([ 2, 11,  8,  6,  7,  1,  1,  1,  2,  8,  3, 11, 11,  0,  6, 11,  6,\n",
              "        9,  2,  4,  7,  7,  5,  0,  9,  9,  7,  5,  4,  5, 10,  3,  8,  7,\n",
              "        7,  5,  6,  1,  6,  3,  4, 11,  5,  6,  6,  7, 10,  8, 11, 10,  3,\n",
              "        9,  6,  6,  0, 10,  2,  6,  7,  1,  3,  6,  6,  2,  8, 10,  7,  7,\n",
              "        2,  6,  8,  6,  4,  6,  7,  1,  0,  0,  6,  6,  1,  7,  5,  7,  2,\n",
              "        6,  6,  1,  2,  2,  0,  5,  1,  7,  0,  7,  0,  6,  8,  3,  9,  9,\n",
              "        9,  3,  3,  5,  3,  4,  8,  5,  0,  9,  7,  4,  0,  3,  5,  3,  0,\n",
              "       10,  5, 10,  2,  3,  0, 11,  2,  1,  1,  1,  2,  2,  9,  2,  2, 10,\n",
              "        1,  7,  4,  2,  8,  8,  8,  6,  4,  4,  2,  2,  1,  9,  3,  0,  6,\n",
              "        4,  4,  5,  4,  3,  0,  8,  1,  2, 11,  2,  0,  2, 10,  5, 11,  7,\n",
              "        1,  5,  6,  0,  9, 10,  4,  5,  4,  6,  5,  6,  2,  0,  0,  0,  4,\n",
              "        6, 11,  8,  7,  7,  1,  9,  1,  7,  1,  4,  8, 10,  7,  4,  0,  0,\n",
              "       10, 10,  8,  3,  1,  2,  3, 11,  2,  2, 10,  2,  6,  7,  7,  7,  8,\n",
              "       11, 11,  6,  9,  0,  7,  1, 10,  8,  4,  9, 11, 11,  0,  8,  2,  9,\n",
              "        8,  3,  4,  5,  0,  6,  5,  1,  5,  9,  9,  8,  1, 11,  0,  1, 10,\n",
              "        4,  0,  5,  3,  7,  1,  4,  9,  6,  9,  5])"
            ]
          },
          "metadata": {},
          "execution_count": 26
        }
      ]
    },
    {
      "cell_type": "code",
      "execution_count": null,
      "metadata": {
        "id": "9nf_RXJ3t-Xd"
      },
      "outputs": [],
      "source": [
        "import pandas as pd\n",
        "import seaborn as sns\n",
        "import matplotlib.pyplot as plt\n",
        "from sklearn.metrics import confusion_matrix, classification_report\n",
        "\n",
        "def print_confusion_matrix(y_true, y_pred, report=True):\n",
        "    labels = sorted(list(set(y_true)))\n",
        "    cmx_data = confusion_matrix(y_true, y_pred, labels=labels)\n",
        "\n",
        "    df_cmx = pd.DataFrame(cmx_data, index=labels, columns=labels)\n",
        "\n",
        "    fig, ax = plt.subplots(figsize=(7, 6))\n",
        "    sns.heatmap(df_cmx, annot=True, fmt='g' ,square=False)\n",
        "    ax.set_ylim(len(set(y_true)), 0)\n",
        "    plt.show()\n",
        "\n",
        "    if report:\n",
        "        print('Classification Report')\n",
        "        print(classification_report(y_test, y_pred))\n",
        "\n",
        "Y_pred = model.predict(X_test)\n",
        "y_pred = np.argmax(Y_pred, axis=1)\n",
        "\n",
        "print_confusion_matrix(y_test, y_pred)"
      ]
    },
    {
      "cell_type": "markdown",
      "metadata": {
        "id": "9Usu1Zjpt-Xe"
      },
      "source": [
        "# Tensorflow-Lite용 모델로 변환"
      ]
    },
    {
      "cell_type": "code",
      "execution_count": null,
      "metadata": {
        "id": "npHtegeqt-Xe"
      },
      "outputs": [],
      "source": [
        "model.save(model_save_path, include_optimizer=False)"
      ]
    },
    {
      "cell_type": "code",
      "source": [
        "tf.__version__"
      ],
      "metadata": {
        "colab": {
          "base_uri": "https://localhost:8080/",
          "height": 35
        },
        "id": "9B39ir0QiGYs",
        "outputId": "c3e3dd93-5132-4276-ec1f-11d5236276b7"
      },
      "execution_count": null,
      "outputs": [
        {
          "output_type": "execute_result",
          "data": {
            "text/plain": [
              "'2.12.0'"
            ],
            "application/vnd.google.colaboratory.intrinsic+json": {
              "type": "string"
            }
          },
          "metadata": {},
          "execution_count": 29
        }
      ]
    },
    {
      "cell_type": "code",
      "source": [
        "tflite_save_path = '/content/drive/MyDrive/KHUDA3rd 3차/0724/keypoint_classifier_0726_cnn.tflite'\n",
        "converter = tf.lite.TFLiteConverter.from_keras_model(model)\n",
        "converter.optimizations = [tf.lite.Optimize.DEFAULT]\n",
        "converter.experimental_new_converter=True\n",
        "converter.target_spec.supported_ops = [tf.lite.OpsSet.TFLITE_BUILTINS,\n",
        "tf.lite.OpsSet.SELECT_TF_OPS]\n",
        "tflite_quantized_model = converter.convert()\n",
        "\n",
        "open(tflite_save_path, 'wb').write(tflite_quantized_model)"
      ],
      "metadata": {
        "id": "_mIVHu8Qib9N",
        "outputId": "c683464d-1848-40be-e724-2582e3780c3c",
        "colab": {
          "base_uri": "https://localhost:8080/"
        }
      },
      "execution_count": null,
      "outputs": [
        {
          "output_type": "stream",
          "name": "stderr",
          "text": [
            "WARNING:absl:Found untraced functions such as _jit_compiled_convolution_op, _jit_compiled_convolution_op, _jit_compiled_convolution_op, _update_step_xla while saving (showing 4 of 4). These functions will not be directly callable after loading.\n"
          ]
        },
        {
          "output_type": "execute_result",
          "data": {
            "text/plain": [
              "529336"
            ]
          },
          "metadata": {},
          "execution_count": 30
        }
      ]
    },
    {
      "cell_type": "markdown",
      "metadata": {
        "id": "Y-Fn1oASt-Xf"
      },
      "source": [
        "# 성능 test"
      ]
    },
    {
      "cell_type": "code",
      "execution_count": null,
      "metadata": {
        "id": "I68FxKOpt-Xf"
      },
      "outputs": [],
      "source": [
        "interpreter = tf.lite.Interpreter(model_path=tflite_save_path)\n",
        "interpreter.allocate_tensors()"
      ]
    },
    {
      "cell_type": "code",
      "execution_count": null,
      "metadata": {
        "id": "d0dm6fNmt-Xg"
      },
      "outputs": [],
      "source": [
        "input_details = interpreter.get_input_details()\n",
        "output_details = interpreter.get_output_details()"
      ]
    },
    {
      "cell_type": "code",
      "execution_count": null,
      "metadata": {
        "id": "iUv5pxuAt-Xg"
      },
      "outputs": [],
      "source": [
        "interpreter.set_tensor(input_details[0]['index'], np.array([X_test[0]]))"
      ]
    },
    {
      "cell_type": "code",
      "execution_count": null,
      "metadata": {
        "scrolled": true,
        "id": "X9oMOqc8t-Xh",
        "outputId": "cc9b09d3-a738-472d-a5ff-5eed808f46d6",
        "colab": {
          "base_uri": "https://localhost:8080/"
        }
      },
      "outputs": [
        {
          "output_type": "stream",
          "name": "stdout",
          "text": [
            "CPU times: user 3.26 ms, sys: 945 µs, total: 4.2 ms\n",
            "Wall time: 6.72 ms\n"
          ]
        }
      ],
      "source": [
        "%%time\n",
        "interpreter.invoke()\n",
        "tflite_results = interpreter.get_tensor(output_details[0]['index'])"
      ]
    },
    {
      "cell_type": "code",
      "execution_count": null,
      "metadata": {
        "id": "jWCYZMbTt-Xh",
        "outputId": "c850d925-c1b7-4c85-e70e-5a8e7683f27b",
        "colab": {
          "base_uri": "https://localhost:8080/"
        }
      },
      "outputs": [
        {
          "output_type": "stream",
          "name": "stdout",
          "text": [
            "[1.9128470e-06 1.2457697e-07 9.7453666e-01 1.5415688e-05 1.2349144e-03\n",
            " 1.5118847e-07 2.2364464e-02 1.3173852e-06 1.2979107e-03 5.9402396e-06\n",
            " 5.0541607e-04 3.5809608e-05]\n",
            "2\n"
          ]
        }
      ],
      "source": [
        "print(np.squeeze(tflite_results))\n",
        "print(np.argmax(np.squeeze(tflite_results)))"
      ]
    },
    {
      "cell_type": "code",
      "source": [],
      "metadata": {
        "id": "Hz14bXdiFaGD"
      },
      "execution_count": null,
      "outputs": []
    }
  ],
  "metadata": {
    "kernelspec": {
      "display_name": "Python 3",
      "name": "python3"
    },
    "language_info": {
      "codemirror_mode": {
        "name": "ipython",
        "version": 3
      },
      "file_extension": ".py",
      "mimetype": "text/x-python",
      "name": "python",
      "nbconvert_exporter": "python",
      "pygments_lexer": "ipython3",
      "version": "3.8.5"
    },
    "colab": {
      "provenance": [],
      "gpuType": "T4"
    },
    "accelerator": "GPU"
  },
  "nbformat": 4,
  "nbformat_minor": 0
}
